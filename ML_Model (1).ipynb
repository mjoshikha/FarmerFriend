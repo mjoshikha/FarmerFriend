{
  "nbformat": 4,
  "nbformat_minor": 0,
  "metadata": {
    "colab": {
      "name": "ML_Model.ipynb",
      "provenance": []
    },
    "kernelspec": {
      "name": "python3",
      "display_name": "Python 3"
    },
    "language_info": {
      "name": "python"
    }
  },
  "cells": [
    {
      "cell_type": "code",
      "metadata": {
        "id": "rzfeIutDuJ1U"
      },
      "source": [
        "import numpy as np\n",
        "import matplotlib.pyplot as plt\n",
        "import pandas as pd"
      ],
      "execution_count": null,
      "outputs": []
    },
    {
      "cell_type": "code",
      "metadata": {
        "id": "vXXzZVN359Mf"
      },
      "source": [
        "dataset = pd.read_csv('Crop.csv')"
      ],
      "execution_count": null,
      "outputs": []
    },
    {
      "cell_type": "code",
      "metadata": {
        "colab": {
          "base_uri": "https://localhost:8080/"
        },
        "id": "bYJkpLj56b8F",
        "outputId": "7f31d5e1-a3c5-41e2-efaa-56dbf3d39e02"
      },
      "source": [
        "states=dataset['State'].unique()\n",
        "states.sort()\n",
        "print(states)"
      ],
      "execution_count": null,
      "outputs": [
        {
          "output_type": "stream",
          "text": [
            "['Andhra Pradesh' 'Assam' 'Bihar' 'Chhattisgarh' 'Gujarat' 'Haryana'\n",
            " 'Himachal' 'Jharkhand' 'Karnataka' 'Kerala' 'Madhya Pradesh'\n",
            " 'Maharashtra' 'Odisha' 'Punjab' 'Rajasthan' 'Tamil Nadu' 'Uttar Pradesh'\n",
            " 'Uttarakhand' 'West Bengal']\n"
          ],
          "name": "stdout"
        }
      ]
    },
    {
      "cell_type": "code",
      "metadata": {
        "colab": {
          "base_uri": "https://localhost:8080/"
        },
        "id": "7RYyd1zt7C2W",
        "outputId": "2e649b6a-25c1-42cd-efe1-04e1bcc9b401"
      },
      "source": [
        "month=dataset['Month'].unique()\n",
        "print(month)"
      ],
      "execution_count": null,
      "outputs": [
        {
          "output_type": "stream",
          "text": [
            "['January' 'February' 'March' 'April' 'May' 'June' 'July' 'August'\n",
            " 'September' 'October' 'November' 'December']\n"
          ],
          "name": "stdout"
        }
      ]
    },
    {
      "cell_type": "code",
      "metadata": {
        "colab": {
          "base_uri": "https://localhost:8080/"
        },
        "id": "-ZKQpo-m8ZOR",
        "outputId": "05bc19f5-4b5b-4968-fb7e-961e18240475"
      },
      "source": [
        "soil=dataset['Soil'].unique()\n",
        "soil.sort()\n",
        "print(soil)"
      ],
      "execution_count": null,
      "outputs": [
        {
          "output_type": "stream",
          "text": [
            "['Aluvial' 'Black' 'Desert' 'Laterite' 'Mountain' 'Red']\n"
          ],
          "name": "stdout"
        }
      ]
    },
    {
      "cell_type": "code",
      "metadata": {
        "id": "aUB7cHip8jCI",
        "colab": {
          "base_uri": "https://localhost:8080/"
        },
        "outputId": "c03542b1-9bad-4b0f-9db9-9e7185a0452c"
      },
      "source": [
        "X = dataset.iloc[:, :3].values\n",
        "y = dataset.iloc[:, -2].values\n",
        "print(X)"
      ],
      "execution_count": null,
      "outputs": [
        {
          "output_type": "stream",
          "text": [
            "[['Aluvial' 'January' 'Andhra Pradesh']\n",
            " ['Black' 'January' 'Andhra Pradesh']\n",
            " ['Desert' 'January' 'Andhra Pradesh']\n",
            " ...\n",
            " ['Aluvial' 'December' 'West Bengal']\n",
            " ['Black' 'December' 'West Bengal']\n",
            " ['Red' 'December' 'West Bengal']]\n"
          ],
          "name": "stdout"
        }
      ]
    },
    {
      "cell_type": "code",
      "metadata": {
        "id": "pN8vIQACxEkw"
      },
      "source": [
        "from sklearn.preprocessing import OneHotEncoder\n",
        "encoder = OneHotEncoder(sparse=False)\n",
        "onehot = encoder.fit_transform(X)\n",
        "X=onehot"
      ],
      "execution_count": null,
      "outputs": []
    },
    {
      "cell_type": "code",
      "metadata": {
        "id": "SAZapx_cEjdT"
      },
      "source": [
        "X1 = dataset.iloc[:, :3].values\n",
        "y1 = dataset.iloc[:, -1].values"
      ],
      "execution_count": null,
      "outputs": []
    },
    {
      "cell_type": "code",
      "metadata": {
        "id": "We2JNCBSxYQk"
      },
      "source": [
        "onehot1 = encoder.fit_transform(X1)\n",
        "X1=onehot1"
      ],
      "execution_count": null,
      "outputs": []
    },
    {
      "cell_type": "code",
      "metadata": {
        "id": "dhfBvjwSHW-E"
      },
      "source": [
        "from sklearn.model_selection import train_test_split\n",
        "X_train, X_test, y_train, y_test = train_test_split(X, y, test_size = 0.2, random_state = 0)\n"
      ],
      "execution_count": null,
      "outputs": []
    },
    {
      "cell_type": "code",
      "metadata": {
        "id": "FOqBZEBEHMyr"
      },
      "source": [
        "X1_train, X1_test, y1_train, y1_test = train_test_split(X1, y1, test_size = 0.2, random_state = 0)\n"
      ],
      "execution_count": null,
      "outputs": []
    },
    {
      "cell_type": "code",
      "metadata": {
        "colab": {
          "base_uri": "https://localhost:8080/"
        },
        "id": "qBGHOoOfHiiH",
        "outputId": "50b6111a-e6b4-4443-8e01-7d4c1b73296c"
      },
      "source": [
        "from sklearn.linear_model import LinearRegression\n",
        "regressor = LinearRegression()\n",
        "regressor.fit(X_train, y_train)\n",
        "regressor.fit(X1_train, y1_train)"
      ],
      "execution_count": null,
      "outputs": [
        {
          "output_type": "execute_result",
          "data": {
            "text/plain": [
              "LinearRegression(copy_X=True, fit_intercept=True, n_jobs=None, normalize=False)"
            ]
          },
          "metadata": {
            "tags": []
          },
          "execution_count": 12
        }
      ]
    },
    {
      "cell_type": "code",
      "metadata": {
        "colab": {
          "base_uri": "https://localhost:8080/"
        },
        "id": "aAePHkSgcKiT",
        "outputId": "213c0615-0978-463d-d365-c4fb80e2fc97"
      },
      "source": [
        "y_pred = regressor.predict(X_test)\n",
        "np.set_printoptions(precision=2)\n",
        "print(np.concatenate((y_pred.reshape(len(y_pred),1), y_test.reshape(len(y_test),1)),1))"
      ],
      "execution_count": null,
      "outputs": [
        {
          "output_type": "stream",
          "text": [
            "[[ 4.  5.]\n",
            " [ 7.  6.]\n",
            " [ 4.  5.]\n",
            " [ 5.  1.]\n",
            " [ 5.  4.]\n",
            " [ 4.  5.]\n",
            " [ 1.  3.]\n",
            " [ 5. 12.]\n",
            " [ 4.  9.]\n",
            " [ 4.  5.]\n",
            " [ 2.  1.]\n",
            " [ 2.  4.]\n",
            " [10.  5.]\n",
            " [ 2.  1.]\n",
            " [ 2.  5.]\n",
            " [ 1.  5.]\n",
            " [ 2.  4.]\n",
            " [ 4.  5.]\n",
            " [ 2.  1.]\n",
            " [11.  1.]\n",
            " [ 2.  5.]\n",
            " [11.  1.]\n",
            " [ 5. 12.]\n",
            " [ 4.  9.]\n",
            " [ 5.  4.]\n",
            " [11.  1.]\n",
            " [ 5. 12.]\n",
            " [ 2.  1.]\n",
            " [ 2.  1.]\n",
            " [ 2.  4.]\n",
            " [ 7.  6.]\n",
            " [ 2.  1.]\n",
            " [ 1.  5.]\n",
            " [ 4.  5.]\n",
            " [ 2.  1.]\n",
            " [ 4.  5.]\n",
            " [10.  5.]\n",
            " [ 1.  5.]\n",
            " [ 2.  5.]\n",
            " [ 8.  1.]\n",
            " [ 4.  5.]\n",
            " [ 4.  5.]\n",
            " [11.  1.]\n",
            " [ 5.  4.]\n",
            " [11.  1.]\n",
            " [ 1.  5.]\n",
            " [ 4.  5.]\n",
            " [ 4.  9.]\n",
            " [ 4.  5.]\n",
            " [ 2.  5.]\n",
            " [ 1.  5.]\n",
            " [ 4.  9.]\n",
            " [ 2.  1.]\n",
            " [ 4.  5.]\n",
            " [ 5. 12.]\n",
            " [ 2.  4.]\n",
            " [ 1.  5.]\n",
            " [ 5. 12.]\n",
            " [ 2.  4.]\n",
            " [ 4.  5.]\n",
            " [10.  5.]\n",
            " [ 2.  1.]\n",
            " [10.  5.]\n",
            " [ 2.  1.]\n",
            " [ 4.  5.]\n",
            " [ 7.  6.]\n",
            " [ 1.  3.]\n",
            " [ 8.  1.]\n",
            " [ 2.  1.]\n",
            " [ 5.  4.]\n",
            " [ 4.  5.]\n",
            " [ 1.  3.]\n",
            " [ 5. 12.]\n",
            " [ 4.  9.]\n",
            " [ 2.  4.]\n",
            " [10.  5.]\n",
            " [ 2.  5.]\n",
            " [ 5.  1.]\n",
            " [ 4.  9.]\n",
            " [11.  1.]\n",
            " [ 7.  6.]\n",
            " [ 4.  5.]\n",
            " [11.  1.]\n",
            " [ 2.  5.]\n",
            " [11.  1.]\n",
            " [ 4.  5.]\n",
            " [ 2.  4.]\n",
            " [ 2.  5.]\n",
            " [ 8.  1.]\n",
            " [ 4.  5.]\n",
            " [ 8.  1.]\n",
            " [ 8.  1.]\n",
            " [10.  5.]\n",
            " [11.  1.]\n",
            " [ 5.  4.]\n",
            " [ 5. 12.]\n",
            " [ 2.  5.]\n",
            " [ 5.  4.]\n",
            " [ 4.  9.]\n",
            " [ 8.  1.]\n",
            " [ 2.  1.]\n",
            " [ 2.  4.]\n",
            " [ 5.  1.]\n",
            " [ 4.  5.]\n",
            " [10.  5.]\n",
            " [ 4.  5.]\n",
            " [ 2.  5.]\n",
            " [ 2.  1.]\n",
            " [ 1.  5.]\n",
            " [ 2.  1.]\n",
            " [ 4.  9.]\n",
            " [10.  5.]\n",
            " [11.  1.]\n",
            " [ 2.  1.]\n",
            " [ 2.  5.]\n",
            " [ 5. 12.]\n",
            " [10.  5.]\n",
            " [ 7.  6.]\n",
            " [ 2.  1.]\n",
            " [ 4.  9.]\n",
            " [ 1.  3.]\n",
            " [ 5.  1.]\n",
            " [11.  1.]\n",
            " [ 2.  1.]\n",
            " [ 8.  1.]\n",
            " [ 1.  5.]\n",
            " [ 4.  5.]\n",
            " [ 8.  1.]\n",
            " [ 5. 12.]\n",
            " [ 2.  1.]\n",
            " [ 2.  1.]\n",
            " [ 2.  5.]\n",
            " [11.  1.]\n",
            " [ 2.  1.]\n",
            " [11.  1.]\n",
            " [ 5.  1.]\n",
            " [ 5. 12.]\n",
            " [ 2.  5.]\n",
            " [ 5.  1.]\n",
            " [ 5.  1.]\n",
            " [ 2.  1.]\n",
            " [ 8.  1.]\n",
            " [ 4.  9.]\n",
            " [ 8.  1.]\n",
            " [ 1.  3.]\n",
            " [ 2.  1.]\n",
            " [ 2.  5.]\n",
            " [ 4.  5.]\n",
            " [ 5.  4.]\n",
            " [ 2.  1.]\n",
            " [ 4.  5.]\n",
            " [ 2.  1.]\n",
            " [ 2.  5.]\n",
            " [11.  1.]\n",
            " [ 8.  1.]\n",
            " [11.  1.]\n",
            " [ 2.  5.]\n",
            " [ 4.  5.]\n",
            " [ 1.  3.]]\n"
          ],
          "name": "stdout"
        }
      ]
    },
    {
      "cell_type": "markdown",
      "metadata": {
        "id": "6ifCfd6uz6Xl"
      },
      "source": [
        "y_pred = regressor.predict(X_test)\n",
        "np.set_printoptions(precision=2)\n",
        "print(np.concatenate((y_pred.reshape(len(y_pred),1), y_test.reshape(len(y_test),1)),1))"
      ]
    }
  ]
}